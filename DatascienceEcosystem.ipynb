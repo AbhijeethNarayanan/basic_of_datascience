{
 "cells": [
  {
   "cell_type": "markdown",
   "id": "83ac481e-4874-4465-8d3e-7a6e87430f03",
   "metadata": {
    "panel-layout": {
     "height": 51.140625,
     "visible": true,
     "width": 100
    }
   },
   "source": [
    "# Data Science Tools and Ecosystem\n",
    "\n"
   ]
  },
  {
   "cell_type": "markdown",
   "id": "e3c55822-4c37-4338-873e-8be9f87da8c4",
   "metadata": {},
   "source": [
    "In this notebook, we are going to learn about the basics of data science."
   ]
  },
  {
   "cell_type": "markdown",
   "id": "85204bdc-54c3-4e8c-a1f3-ebb06ff89efa",
   "metadata": {},
   "source": [
    "Some of the languages used are:\n",
    "1. Python\n",
    "2. R\n",
    "3. SQL\n",
    "4. Java\n",
    "5. C++"
   ]
  },
  {
   "cell_type": "markdown",
   "id": "1b9f97ca-e45a-4389-88c6-111e1226e6b7",
   "metadata": {},
   "source": [
    "Some commnly used libraries are:\n",
    "1. TensorFlow\n",
    "2. NumPy\n",
    "3. SciPy\n",
    "4. Pandas\n",
    "5. matplot\n",
    "6. keras\n",
    "7. PyTorch"
   ]
  },
  {
   "cell_type": "markdown",
   "id": "c623a8ee-2ea8-43da-a264-2434e0c1765a",
   "metadata": {},
   "source": [
    "|Data science tools|\n",
    "|----|\n",
    "|TensorFLOW|\n",
    "|ApacheHadoop|\n",
    "|SAS|"
   ]
  },
  {
   "cell_type": "markdown",
   "id": "4dd074ac-2208-40ae-a81c-76d7e562f23b",
   "metadata": {},
   "source": [
    "### Below are the few examples of evaluating aretematic experssions in python."
   ]
  },
  {
   "cell_type": "code",
   "execution_count": 3,
   "id": "4450f11d-d94c-4cb2-a035-46758c037cb2",
   "metadata": {},
   "outputs": [
    {
     "data": {
      "text/plain": [
       "17"
      ]
     },
     "execution_count": 3,
     "metadata": {},
     "output_type": "execute_result"
    }
   ],
   "source": [
    "#this is a common example to multiply and then add integers.\n",
    "(3*4)+5"
   ]
  },
  {
   "cell_type": "code",
   "execution_count": 4,
   "id": "694f9d3d-26b8-42b3-8c96-05314b4b5c67",
   "metadata": {},
   "outputs": [
    {
     "data": {
      "text/plain": [
       "3.3333333333333335"
      ]
     },
     "execution_count": 4,
     "metadata": {},
     "output_type": "execute_result"
    }
   ],
   "source": [
    "#this will convert 200 min into hours by dividing itself by 60\n",
    "200/60"
   ]
  },
  {
   "cell_type": "markdown",
   "id": "b2d7fbcd-c333-440e-a41d-494866866f00",
   "metadata": {},
   "source": [
    "_objective_\n",
    "* list languages in data science\n",
    "* list libraries in data science\n",
    "* list tools in data science\n",
    "* comment in a cell "
   ]
  },
  {
   "cell_type": "markdown",
   "id": "4da60bd2-e49e-4967-b05f-7596f6a54569",
   "metadata": {},
   "source": [
    "## Author\n",
    "Gourav Kumar"
   ]
  }
 ],
 "metadata": {
  "kernelspec": {
   "display_name": "Python [conda env:base] *",
   "language": "python",
   "name": "conda-base-py"
  },
  "language_info": {
   "codemirror_mode": {
    "name": "ipython",
    "version": 3
   },
   "file_extension": ".py",
   "mimetype": "text/x-python",
   "name": "python",
   "nbconvert_exporter": "python",
   "pygments_lexer": "ipython3",
   "version": "3.12.7"
  },
  "panel-cell-order": [
   "83ac481e-4874-4465-8d3e-7a6e87430f03"
  ]
 },
 "nbformat": 4,
 "nbformat_minor": 5
}
